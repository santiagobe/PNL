{
 "cells": [
  {
   "cell_type": "markdown",
   "metadata": {},
   "source": [
    "# Desafio Nº1\n",
    "\n",
    "**Integrantes**:\n",
    "- Santiago Belen. \n",
    "\n",
    "### Consigna\n",
    "\n",
    "**1**. Vectorizar documentos. Tomar 5 documentos al azar y medir similaridad con el resto de los documentos.\n",
    "Estudiar los 5 documentos más similares de cada uno analizar si tiene sentido\n",
    "la similaridad según el contenido del texto y la etiqueta de clasificación.\n",
    "\n",
    "**2**. Entrenar modelos de clasificación Naïve Bayes para maximizar el desempeño de clasificación\n",
    "(f1-score macro) en el conjunto de datos de test. Considerar cambiar parámteros\n",
    "de instanciación del vectorizador y los modelos y probar modelos de Naïve Bayes Multinomial\n",
    "y ComplementNB.\n",
    "\n",
    "**3**. Transponer la matriz documento-término. De esa manera se obtiene una matriz\n",
    "término-documento que puede ser interpretada como una colección de vectorización de palabras.\n",
    "Estudiar ahora similaridad entre palabras tomando 5 palabras y estudiando sus 5 más similares. **La elección de palabras no debe ser al azar para evitar la aparición de términos poco interpretables, elegirlas \"manualmente\"**.\n"
   ]
  },
  {
   "cell_type": "markdown",
   "metadata": {
    "id": "zq6j8LsYq1Dr"
   },
   "source": [
    "### Vectorización de texto y modelo de clasificación Naïve Bayes con el dataset 20 newsgroups"
   ]
  },
  {
   "cell_type": "code",
   "execution_count": 1,
   "metadata": {
    "id": "l7cXR6CI30ry"
   },
   "outputs": [],
   "source": [
    "from sklearn.feature_extraction.text import CountVectorizer, TfidfVectorizer\n",
    "from sklearn.metrics.pairwise import cosine_similarity\n",
    "from sklearn.naive_bayes import MultinomialNB, ComplementNB\n",
    "from sklearn.metrics import f1_score\n",
    "from sklearn.datasets import fetch_20newsgroups\n",
    "from sklearn.pipeline import make_pipeline\n",
    "import pandas as pd\n",
    "import numpy as np\n",
    "import textwrap\n",
    "import matplotlib.pyplot as plt\n",
    "import io\n",
    "import base64\n",
    "from IPython.display import Image, display"
   ]
  },
  {
   "cell_type": "markdown",
   "metadata": {
    "id": "yD-pVDWV_rQc"
   },
   "source": [
    "### Carga de datos"
   ]
  },
  {
   "cell_type": "code",
   "execution_count": 2,
   "metadata": {
    "id": "Ech9qJaUo9vK"
   },
   "outputs": [],
   "source": [
    "# Cargar el conjunto de entrenamiento y prueba del dataset 20 Newsgroups\n",
    "# Se eliminan encabezados, pies de página y citas\n",
    "newsgroups_train = fetch_20newsgroups(subset='train', remove=('headers', 'footers', 'quotes'))\n",
    "newsgroups_test = fetch_20newsgroups(subset='test', remove=('headers', 'footers', 'quotes'))"
   ]
  },
  {
   "cell_type": "markdown",
   "metadata": {
    "id": "UxjSI7su_uWI"
   },
   "source": [
    "### Vectorización"
   ]
  },
  {
   "cell_type": "code",
   "execution_count": 3,
   "metadata": {
    "id": "-94VP0QYCzDn"
   },
   "outputs": [],
   "source": [
    "# Instanciar un vectorizador TF-IDF\n",
    "tfidfvect = TfidfVectorizer()"
   ]
  },
  {
   "cell_type": "code",
   "execution_count": 4,
   "metadata": {
    "colab": {
     "base_uri": "https://localhost:8080/",
     "height": 104
    },
    "id": "ftPlyanuak8n",
    "outputId": "45a94d0e-49e7-4f7c-c806-7d5b66779dd0"
   },
   "outputs": [
    {
     "name": "stdout",
     "output_type": "stream",
     "text": [
      "I was wondering if anyone out there could enlighten me on this car I saw\n",
      "the other day. It was a 2-door sports car, looked to be from the late 60s/\n",
      "early 70s. It was called a Bricklin. The doors were really small. In addition,\n",
      "the front bumper was separate from the rest of the body. This is \n",
      "all I know. If anyone can tellme a model name, engine specs, years\n",
      "of production, where this car is made, history, or whatever info you\n",
      "have on this funky looking car, please e-mail.\n"
     ]
    }
   ],
   "source": [
    "# Acceder al primer documento de texto del conjunto de entrenamiento\n",
    "print(newsgroups_train.data[0])"
   ]
  },
  {
   "cell_type": "code",
   "execution_count": 5,
   "metadata": {
    "id": "1zxcXV6aC_oL"
   },
   "outputs": [],
   "source": [
    "# Ajustar el vectorizador TF-IDF al texto de entrenamiento:\n",
    "X_train = tfidfvect.fit_transform(newsgroups_train.data)"
   ]
  },
  {
   "cell_type": "code",
   "execution_count": 6,
   "metadata": {
    "colab": {
     "base_uri": "https://localhost:8080/"
    },
    "id": "4Sv7TXbda41-",
    "outputId": "dcca5de6-dac1-4d68-d284-ce7be2ed9e2f"
   },
   "outputs": [
    {
     "name": "stdout",
     "output_type": "stream",
     "text": [
      "<class 'scipy.sparse._csr.csr_matrix'>\n",
      "shape: (11314, 101631)\n",
      "Cantidad de documentos: 11314\n",
      "Tamaño del vocabulario (dimensionalidad de los vectores): 101631\n"
     ]
    }
   ],
   "source": [
    "print(type(X_train))  \n",
    "print(f'shape: {X_train.shape}')  \n",
    "print(f'Cantidad de documentos: {X_train.shape[0]}')\n",
    "print(f'Tamaño del vocabulario (dimensionalidad de los vectores): {X_train.shape[1]}') \n"
   ]
  },
  {
   "cell_type": "code",
   "execution_count": 7,
   "metadata": {
    "colab": {
     "base_uri": "https://localhost:8080/"
    },
    "id": "dgydNTZ2pAgR",
    "outputId": "95111464-e40c-4b57-d154-ede153739a82"
   },
   "outputs": [
    {
     "data": {
      "text/plain": [
       "25775"
      ]
     },
     "execution_count": 7,
     "metadata": {},
     "output_type": "execute_result"
    }
   ],
   "source": [
    "# Acceder al índice asignado a la palabra 'car'\n",
    "tfidfvect.vocabulary_['car']\n"
   ]
  },
  {
   "cell_type": "code",
   "execution_count": 8,
   "metadata": {
    "id": "xnTSZuvyrTcP"
   },
   "outputs": [],
   "source": [
    "# Crear ese diccionario invirtiendo claves y valores del vocabulario original\n",
    "idx2word = {v: k for k, v in tfidfvect.vocabulary_.items()}"
   ]
  },
  {
   "cell_type": "code",
   "execution_count": 9,
   "metadata": {
    "colab": {
     "base_uri": "https://localhost:8080/"
    },
    "id": "swa-AgWrMSHM",
    "outputId": "93d09f31-4c42-4215-e750-a13c83ecf96a"
   },
   "outputs": [
    {
     "data": {
      "text/plain": [
       "array([ 7,  4,  4,  1, 14, 16, 13,  3,  2,  4], dtype=int64)"
      ]
     },
     "execution_count": 9,
     "metadata": {},
     "output_type": "execute_result"
    }
   ],
   "source": [
    "# Guardar las etiquetas (targets) del conjunto de entrenamiento en y_train\n",
    "y_train = newsgroups_train.target\n",
    "y_train[:10]\n"
   ]
  },
  {
   "cell_type": "code",
   "execution_count": 10,
   "metadata": {
    "colab": {
     "base_uri": "https://localhost:8080/"
    },
    "id": "je5kxvQMDLvf",
    "outputId": "59799046-9799-406f-c4be-81c5765de58d"
   },
   "outputs": [
    {
     "name": "stdout",
     "output_type": "stream",
     "text": [
      "clases [ 0  1  2  3  4  5  6  7  8  9 10 11 12 13 14 15 16 17 18 19]\n",
      "0: alt.atheism\n",
      "1: comp.graphics\n",
      "2: comp.os.ms-windows.misc\n",
      "3: comp.sys.ibm.pc.hardware\n",
      "4: comp.sys.mac.hardware\n",
      "5: comp.windows.x\n",
      "6: misc.forsale\n",
      "7: rec.autos\n",
      "8: rec.motorcycles\n",
      "9: rec.sport.baseball\n",
      "10: rec.sport.hockey\n",
      "11: sci.crypt\n",
      "12: sci.electronics\n",
      "13: sci.med\n",
      "14: sci.space\n",
      "15: soc.religion.christian\n",
      "16: talk.politics.guns\n",
      "17: talk.politics.mideast\n",
      "18: talk.politics.misc\n",
      "19: talk.religion.misc\n"
     ]
    }
   ],
   "source": [
    "# Mostrar los valores únicos de las etiquetas del conjunto de prueba (van de 0 a 19)\n",
    "print(f'clases {np.unique(newsgroups_test.target)}')\n",
    "\n",
    "# Mostrar nombres de las etiquetas\n",
    "for i, name in enumerate(newsgroups_test.target_names):\n",
    "    print(f\"{i}: {name}\")\n"
   ]
  },
  {
   "cell_type": "markdown",
   "metadata": {
    "id": "SXCICFSd_y90"
   },
   "source": [
    "### Similaridad de documentos"
   ]
  },
  {
   "cell_type": "code",
   "execution_count": 11,
   "metadata": {
    "colab": {
     "base_uri": "https://localhost:8080/"
    },
    "id": "_pki_olShnyE",
    "outputId": "b2bd8485-40c7-4923-c8a9-4ad6b735576e"
   },
   "outputs": [
    {
     "name": "stdout",
     "output_type": "stream",
     "text": [
      "===============================================\n",
      "Documento idx: 4811 (clase: talk.politics.misc)\n",
      "===============================================\n",
      "THE WHITE HOUSE                    Office of the Press Secretary                    (Pittsburgh,\n",
      "Pennslyvania) ______________________________________________________________ For Immediate Release\n",
      "April 17, 1993                                       RADIO ADDRESS TO THE NATION\n",
      "BY THE PRESIDENT                               Pittsburgh International Airport\n",
      "Pittsburgh, Pennsylvania                             10:06 A.M. EDT\n",
      "THE PRESIDENT:  Good morning.  My voice is coming to you this morning through the facilities of the\n",
      "oldest radio station in America, KDKA in Pittsburgh.  I'm visiting the city to meet personally with\n",
      "citizens here to discuss my plans for jobs, health care and the economy.  But I wanted first to do\n",
      "my weekly broadcast with the American people.                             I'm told this station\n",
      "first broadcast in 1920 when it reported that year's presidential elec\n"
     ]
    }
   ],
   "source": [
    "# Explorar la similitud entre documentos.\n",
    "idx = 4811  \n",
    "\n",
    "title = f\"Documento idx: {idx} (clase: {newsgroups_train.target_names[y_train[idx]]})\"\n",
    "print(\"=\" * len(title))\n",
    "print(title)\n",
    "print(\"=\" * len(title))\n",
    "print(\"\\n\".join(textwrap.wrap(newsgroups_train.data[idx][:1000], width=100)))"
   ]
  },
  {
   "cell_type": "code",
   "execution_count": 12,
   "metadata": {
    "id": "Ssa9bqJ-hA_v"
   },
   "outputs": [
    {
     "data": {
      "text/plain": [
       "array([1.        , 0.70930477, 0.67474953, ..., 0.        , 0.        ,\n",
       "       0.        ])"
      ]
     },
     "execution_count": 12,
     "metadata": {},
     "output_type": "execute_result"
    }
   ],
   "source": [
    "# Medir la similaridad coseno con todos los documentos de train\n",
    "cossim = cosine_similarity(X_train[idx], X_train)[0]\n",
    "\n",
    "# Ordenar los valores de similaridad de mayor a menor\n",
    "np.sort(cossim)[::-1]"
   ]
  },
  {
   "cell_type": "code",
   "execution_count": 13,
   "metadata": {
    "colab": {
     "base_uri": "https://localhost:8080/"
    },
    "id": "0OIhDA1jAryX",
    "outputId": "04ddf3ca-0741-42d7-8bbb-00bb395f7834"
   },
   "outputs": [
    {
     "data": {
      "text/plain": [
       "array([ 4811,  6635,  4253, ...,  1534, 10055,  4750], dtype=int64)"
      ]
     },
     "execution_count": 13,
     "metadata": {},
     "output_type": "execute_result"
    }
   ],
   "source": [
    "# Obtener los índices de los documentos ordenados por similaridad con `idx`\n",
    "np.argsort(cossim)[::-1]"
   ]
  },
  {
   "cell_type": "code",
   "execution_count": 14,
   "metadata": {
    "id": "hP7qLS4ZBLps"
   },
   "outputs": [
    {
     "data": {
      "text/plain": [
       "array([6635, 4253, 3596, 4271, 3746], dtype=int64)"
      ]
     },
     "execution_count": 14,
     "metadata": {},
     "output_type": "execute_result"
    }
   ],
   "source": [
    "# Obtener los índices de los 5 documentos más similares al documento `idx`\n",
    "mostsim = np.argsort(cossim)[::-1][1:6]\n",
    "mostsim"
   ]
  },
  {
   "cell_type": "code",
   "execution_count": 15,
   "metadata": {
    "colab": {
     "base_uri": "https://localhost:8080/",
     "height": 35
    },
    "id": "QdJLHPJACvaj",
    "outputId": "926186cf-7d4c-4bd3-927b-ad00bf7f24f9"
   },
   "outputs": [
    {
     "data": {
      "text/plain": [
       "'talk.politics.misc'"
      ]
     },
     "execution_count": 15,
     "metadata": {},
     "output_type": "execute_result"
    }
   ],
   "source": [
    "# Obtener el nombre de la clase (categoría de texto) del documento original (`idx`)\n",
    "newsgroups_train.target_names[y_train[idx]]"
   ]
  },
  {
   "cell_type": "code",
   "execution_count": 16,
   "metadata": {
    "colab": {
     "base_uri": "https://localhost:8080/"
    },
    "id": "RWy_73epCbFG",
    "outputId": "daf534e5-b2a8-43d4-d05a-9c52b816cf69"
   },
   "outputs": [
    {
     "name": "stdout",
     "output_type": "stream",
     "text": [
      "talk.politics.misc\n",
      "talk.politics.misc\n",
      "talk.politics.misc\n",
      "talk.politics.misc\n",
      "talk.politics.misc\n"
     ]
    }
   ],
   "source": [
    "# Imprimir las clases (nombres de categorías) de los 5 documentos más similares\n",
    "for i in mostsim:\n",
    "  print(newsgroups_train.target_names[y_train[i]])"
   ]
  },
  {
   "cell_type": "markdown",
   "metadata": {
    "id": "zRoNnKwhBqzq"
   },
   "source": [
    "### Modelo de clasificación Naïve Bayes"
   ]
  },
  {
   "cell_type": "code",
   "execution_count": 17,
   "metadata": {
    "colab": {
     "base_uri": "https://localhost:8080/",
     "height": 74
    },
    "id": "TPM0thDaLk0R",
    "outputId": "bc7fdc3e-d912-4e0c-9d9e-33efc97b46fc"
   },
   "outputs": [
    {
     "data": {
      "text/html": [
       "<style>#sk-container-id-1 {\n",
       "  /* Definition of color scheme common for light and dark mode */\n",
       "  --sklearn-color-text: #000;\n",
       "  --sklearn-color-text-muted: #666;\n",
       "  --sklearn-color-line: gray;\n",
       "  /* Definition of color scheme for unfitted estimators */\n",
       "  --sklearn-color-unfitted-level-0: #fff5e6;\n",
       "  --sklearn-color-unfitted-level-1: #f6e4d2;\n",
       "  --sklearn-color-unfitted-level-2: #ffe0b3;\n",
       "  --sklearn-color-unfitted-level-3: chocolate;\n",
       "  /* Definition of color scheme for fitted estimators */\n",
       "  --sklearn-color-fitted-level-0: #f0f8ff;\n",
       "  --sklearn-color-fitted-level-1: #d4ebff;\n",
       "  --sklearn-color-fitted-level-2: #b3dbfd;\n",
       "  --sklearn-color-fitted-level-3: cornflowerblue;\n",
       "\n",
       "  /* Specific color for light theme */\n",
       "  --sklearn-color-text-on-default-background: var(--sg-text-color, var(--theme-code-foreground, var(--jp-content-font-color1, black)));\n",
       "  --sklearn-color-background: var(--sg-background-color, var(--theme-background, var(--jp-layout-color0, white)));\n",
       "  --sklearn-color-border-box: var(--sg-text-color, var(--theme-code-foreground, var(--jp-content-font-color1, black)));\n",
       "  --sklearn-color-icon: #696969;\n",
       "\n",
       "  @media (prefers-color-scheme: dark) {\n",
       "    /* Redefinition of color scheme for dark theme */\n",
       "    --sklearn-color-text-on-default-background: var(--sg-text-color, var(--theme-code-foreground, var(--jp-content-font-color1, white)));\n",
       "    --sklearn-color-background: var(--sg-background-color, var(--theme-background, var(--jp-layout-color0, #111)));\n",
       "    --sklearn-color-border-box: var(--sg-text-color, var(--theme-code-foreground, var(--jp-content-font-color1, white)));\n",
       "    --sklearn-color-icon: #878787;\n",
       "  }\n",
       "}\n",
       "\n",
       "#sk-container-id-1 {\n",
       "  color: var(--sklearn-color-text);\n",
       "}\n",
       "\n",
       "#sk-container-id-1 pre {\n",
       "  padding: 0;\n",
       "}\n",
       "\n",
       "#sk-container-id-1 input.sk-hidden--visually {\n",
       "  border: 0;\n",
       "  clip: rect(1px 1px 1px 1px);\n",
       "  clip: rect(1px, 1px, 1px, 1px);\n",
       "  height: 1px;\n",
       "  margin: -1px;\n",
       "  overflow: hidden;\n",
       "  padding: 0;\n",
       "  position: absolute;\n",
       "  width: 1px;\n",
       "}\n",
       "\n",
       "#sk-container-id-1 div.sk-dashed-wrapped {\n",
       "  border: 1px dashed var(--sklearn-color-line);\n",
       "  margin: 0 0.4em 0.5em 0.4em;\n",
       "  box-sizing: border-box;\n",
       "  padding-bottom: 0.4em;\n",
       "  background-color: var(--sklearn-color-background);\n",
       "}\n",
       "\n",
       "#sk-container-id-1 div.sk-container {\n",
       "  /* jupyter's `normalize.less` sets `[hidden] { display: none; }`\n",
       "     but bootstrap.min.css set `[hidden] { display: none !important; }`\n",
       "     so we also need the `!important` here to be able to override the\n",
       "     default hidden behavior on the sphinx rendered scikit-learn.org.\n",
       "     See: https://github.com/scikit-learn/scikit-learn/issues/21755 */\n",
       "  display: inline-block !important;\n",
       "  position: relative;\n",
       "}\n",
       "\n",
       "#sk-container-id-1 div.sk-text-repr-fallback {\n",
       "  display: none;\n",
       "}\n",
       "\n",
       "div.sk-parallel-item,\n",
       "div.sk-serial,\n",
       "div.sk-item {\n",
       "  /* draw centered vertical line to link estimators */\n",
       "  background-image: linear-gradient(var(--sklearn-color-text-on-default-background), var(--sklearn-color-text-on-default-background));\n",
       "  background-size: 2px 100%;\n",
       "  background-repeat: no-repeat;\n",
       "  background-position: center center;\n",
       "}\n",
       "\n",
       "/* Parallel-specific style estimator block */\n",
       "\n",
       "#sk-container-id-1 div.sk-parallel-item::after {\n",
       "  content: \"\";\n",
       "  width: 100%;\n",
       "  border-bottom: 2px solid var(--sklearn-color-text-on-default-background);\n",
       "  flex-grow: 1;\n",
       "}\n",
       "\n",
       "#sk-container-id-1 div.sk-parallel {\n",
       "  display: flex;\n",
       "  align-items: stretch;\n",
       "  justify-content: center;\n",
       "  background-color: var(--sklearn-color-background);\n",
       "  position: relative;\n",
       "}\n",
       "\n",
       "#sk-container-id-1 div.sk-parallel-item {\n",
       "  display: flex;\n",
       "  flex-direction: column;\n",
       "}\n",
       "\n",
       "#sk-container-id-1 div.sk-parallel-item:first-child::after {\n",
       "  align-self: flex-end;\n",
       "  width: 50%;\n",
       "}\n",
       "\n",
       "#sk-container-id-1 div.sk-parallel-item:last-child::after {\n",
       "  align-self: flex-start;\n",
       "  width: 50%;\n",
       "}\n",
       "\n",
       "#sk-container-id-1 div.sk-parallel-item:only-child::after {\n",
       "  width: 0;\n",
       "}\n",
       "\n",
       "/* Serial-specific style estimator block */\n",
       "\n",
       "#sk-container-id-1 div.sk-serial {\n",
       "  display: flex;\n",
       "  flex-direction: column;\n",
       "  align-items: center;\n",
       "  background-color: var(--sklearn-color-background);\n",
       "  padding-right: 1em;\n",
       "  padding-left: 1em;\n",
       "}\n",
       "\n",
       "\n",
       "/* Toggleable style: style used for estimator/Pipeline/ColumnTransformer box that is\n",
       "clickable and can be expanded/collapsed.\n",
       "- Pipeline and ColumnTransformer use this feature and define the default style\n",
       "- Estimators will overwrite some part of the style using the `sk-estimator` class\n",
       "*/\n",
       "\n",
       "/* Pipeline and ColumnTransformer style (default) */\n",
       "\n",
       "#sk-container-id-1 div.sk-toggleable {\n",
       "  /* Default theme specific background. It is overwritten whether we have a\n",
       "  specific estimator or a Pipeline/ColumnTransformer */\n",
       "  background-color: var(--sklearn-color-background);\n",
       "}\n",
       "\n",
       "/* Toggleable label */\n",
       "#sk-container-id-1 label.sk-toggleable__label {\n",
       "  cursor: pointer;\n",
       "  display: flex;\n",
       "  width: 100%;\n",
       "  margin-bottom: 0;\n",
       "  padding: 0.5em;\n",
       "  box-sizing: border-box;\n",
       "  text-align: center;\n",
       "  align-items: start;\n",
       "  justify-content: space-between;\n",
       "  gap: 0.5em;\n",
       "}\n",
       "\n",
       "#sk-container-id-1 label.sk-toggleable__label .caption {\n",
       "  font-size: 0.6rem;\n",
       "  font-weight: lighter;\n",
       "  color: var(--sklearn-color-text-muted);\n",
       "}\n",
       "\n",
       "#sk-container-id-1 label.sk-toggleable__label-arrow:before {\n",
       "  /* Arrow on the left of the label */\n",
       "  content: \"▸\";\n",
       "  float: left;\n",
       "  margin-right: 0.25em;\n",
       "  color: var(--sklearn-color-icon);\n",
       "}\n",
       "\n",
       "#sk-container-id-1 label.sk-toggleable__label-arrow:hover:before {\n",
       "  color: var(--sklearn-color-text);\n",
       "}\n",
       "\n",
       "/* Toggleable content - dropdown */\n",
       "\n",
       "#sk-container-id-1 div.sk-toggleable__content {\n",
       "  max-height: 0;\n",
       "  max-width: 0;\n",
       "  overflow: hidden;\n",
       "  text-align: left;\n",
       "  /* unfitted */\n",
       "  background-color: var(--sklearn-color-unfitted-level-0);\n",
       "}\n",
       "\n",
       "#sk-container-id-1 div.sk-toggleable__content.fitted {\n",
       "  /* fitted */\n",
       "  background-color: var(--sklearn-color-fitted-level-0);\n",
       "}\n",
       "\n",
       "#sk-container-id-1 div.sk-toggleable__content pre {\n",
       "  margin: 0.2em;\n",
       "  border-radius: 0.25em;\n",
       "  color: var(--sklearn-color-text);\n",
       "  /* unfitted */\n",
       "  background-color: var(--sklearn-color-unfitted-level-0);\n",
       "}\n",
       "\n",
       "#sk-container-id-1 div.sk-toggleable__content.fitted pre {\n",
       "  /* unfitted */\n",
       "  background-color: var(--sklearn-color-fitted-level-0);\n",
       "}\n",
       "\n",
       "#sk-container-id-1 input.sk-toggleable__control:checked~div.sk-toggleable__content {\n",
       "  /* Expand drop-down */\n",
       "  max-height: 200px;\n",
       "  max-width: 100%;\n",
       "  overflow: auto;\n",
       "}\n",
       "\n",
       "#sk-container-id-1 input.sk-toggleable__control:checked~label.sk-toggleable__label-arrow:before {\n",
       "  content: \"▾\";\n",
       "}\n",
       "\n",
       "/* Pipeline/ColumnTransformer-specific style */\n",
       "\n",
       "#sk-container-id-1 div.sk-label input.sk-toggleable__control:checked~label.sk-toggleable__label {\n",
       "  color: var(--sklearn-color-text);\n",
       "  background-color: var(--sklearn-color-unfitted-level-2);\n",
       "}\n",
       "\n",
       "#sk-container-id-1 div.sk-label.fitted input.sk-toggleable__control:checked~label.sk-toggleable__label {\n",
       "  background-color: var(--sklearn-color-fitted-level-2);\n",
       "}\n",
       "\n",
       "/* Estimator-specific style */\n",
       "\n",
       "/* Colorize estimator box */\n",
       "#sk-container-id-1 div.sk-estimator input.sk-toggleable__control:checked~label.sk-toggleable__label {\n",
       "  /* unfitted */\n",
       "  background-color: var(--sklearn-color-unfitted-level-2);\n",
       "}\n",
       "\n",
       "#sk-container-id-1 div.sk-estimator.fitted input.sk-toggleable__control:checked~label.sk-toggleable__label {\n",
       "  /* fitted */\n",
       "  background-color: var(--sklearn-color-fitted-level-2);\n",
       "}\n",
       "\n",
       "#sk-container-id-1 div.sk-label label.sk-toggleable__label,\n",
       "#sk-container-id-1 div.sk-label label {\n",
       "  /* The background is the default theme color */\n",
       "  color: var(--sklearn-color-text-on-default-background);\n",
       "}\n",
       "\n",
       "/* On hover, darken the color of the background */\n",
       "#sk-container-id-1 div.sk-label:hover label.sk-toggleable__label {\n",
       "  color: var(--sklearn-color-text);\n",
       "  background-color: var(--sklearn-color-unfitted-level-2);\n",
       "}\n",
       "\n",
       "/* Label box, darken color on hover, fitted */\n",
       "#sk-container-id-1 div.sk-label.fitted:hover label.sk-toggleable__label.fitted {\n",
       "  color: var(--sklearn-color-text);\n",
       "  background-color: var(--sklearn-color-fitted-level-2);\n",
       "}\n",
       "\n",
       "/* Estimator label */\n",
       "\n",
       "#sk-container-id-1 div.sk-label label {\n",
       "  font-family: monospace;\n",
       "  font-weight: bold;\n",
       "  display: inline-block;\n",
       "  line-height: 1.2em;\n",
       "}\n",
       "\n",
       "#sk-container-id-1 div.sk-label-container {\n",
       "  text-align: center;\n",
       "}\n",
       "\n",
       "/* Estimator-specific */\n",
       "#sk-container-id-1 div.sk-estimator {\n",
       "  font-family: monospace;\n",
       "  border: 1px dotted var(--sklearn-color-border-box);\n",
       "  border-radius: 0.25em;\n",
       "  box-sizing: border-box;\n",
       "  margin-bottom: 0.5em;\n",
       "  /* unfitted */\n",
       "  background-color: var(--sklearn-color-unfitted-level-0);\n",
       "}\n",
       "\n",
       "#sk-container-id-1 div.sk-estimator.fitted {\n",
       "  /* fitted */\n",
       "  background-color: var(--sklearn-color-fitted-level-0);\n",
       "}\n",
       "\n",
       "/* on hover */\n",
       "#sk-container-id-1 div.sk-estimator:hover {\n",
       "  /* unfitted */\n",
       "  background-color: var(--sklearn-color-unfitted-level-2);\n",
       "}\n",
       "\n",
       "#sk-container-id-1 div.sk-estimator.fitted:hover {\n",
       "  /* fitted */\n",
       "  background-color: var(--sklearn-color-fitted-level-2);\n",
       "}\n",
       "\n",
       "/* Specification for estimator info (e.g. \"i\" and \"?\") */\n",
       "\n",
       "/* Common style for \"i\" and \"?\" */\n",
       "\n",
       ".sk-estimator-doc-link,\n",
       "a:link.sk-estimator-doc-link,\n",
       "a:visited.sk-estimator-doc-link {\n",
       "  float: right;\n",
       "  font-size: smaller;\n",
       "  line-height: 1em;\n",
       "  font-family: monospace;\n",
       "  background-color: var(--sklearn-color-background);\n",
       "  border-radius: 1em;\n",
       "  height: 1em;\n",
       "  width: 1em;\n",
       "  text-decoration: none !important;\n",
       "  margin-left: 0.5em;\n",
       "  text-align: center;\n",
       "  /* unfitted */\n",
       "  border: var(--sklearn-color-unfitted-level-1) 1pt solid;\n",
       "  color: var(--sklearn-color-unfitted-level-1);\n",
       "}\n",
       "\n",
       ".sk-estimator-doc-link.fitted,\n",
       "a:link.sk-estimator-doc-link.fitted,\n",
       "a:visited.sk-estimator-doc-link.fitted {\n",
       "  /* fitted */\n",
       "  border: var(--sklearn-color-fitted-level-1) 1pt solid;\n",
       "  color: var(--sklearn-color-fitted-level-1);\n",
       "}\n",
       "\n",
       "/* On hover */\n",
       "div.sk-estimator:hover .sk-estimator-doc-link:hover,\n",
       ".sk-estimator-doc-link:hover,\n",
       "div.sk-label-container:hover .sk-estimator-doc-link:hover,\n",
       ".sk-estimator-doc-link:hover {\n",
       "  /* unfitted */\n",
       "  background-color: var(--sklearn-color-unfitted-level-3);\n",
       "  color: var(--sklearn-color-background);\n",
       "  text-decoration: none;\n",
       "}\n",
       "\n",
       "div.sk-estimator.fitted:hover .sk-estimator-doc-link.fitted:hover,\n",
       ".sk-estimator-doc-link.fitted:hover,\n",
       "div.sk-label-container:hover .sk-estimator-doc-link.fitted:hover,\n",
       ".sk-estimator-doc-link.fitted:hover {\n",
       "  /* fitted */\n",
       "  background-color: var(--sklearn-color-fitted-level-3);\n",
       "  color: var(--sklearn-color-background);\n",
       "  text-decoration: none;\n",
       "}\n",
       "\n",
       "/* Span, style for the box shown on hovering the info icon */\n",
       ".sk-estimator-doc-link span {\n",
       "  display: none;\n",
       "  z-index: 9999;\n",
       "  position: relative;\n",
       "  font-weight: normal;\n",
       "  right: .2ex;\n",
       "  padding: .5ex;\n",
       "  margin: .5ex;\n",
       "  width: min-content;\n",
       "  min-width: 20ex;\n",
       "  max-width: 50ex;\n",
       "  color: var(--sklearn-color-text);\n",
       "  box-shadow: 2pt 2pt 4pt #999;\n",
       "  /* unfitted */\n",
       "  background: var(--sklearn-color-unfitted-level-0);\n",
       "  border: .5pt solid var(--sklearn-color-unfitted-level-3);\n",
       "}\n",
       "\n",
       ".sk-estimator-doc-link.fitted span {\n",
       "  /* fitted */\n",
       "  background: var(--sklearn-color-fitted-level-0);\n",
       "  border: var(--sklearn-color-fitted-level-3);\n",
       "}\n",
       "\n",
       ".sk-estimator-doc-link:hover span {\n",
       "  display: block;\n",
       "}\n",
       "\n",
       "/* \"?\"-specific style due to the `<a>` HTML tag */\n",
       "\n",
       "#sk-container-id-1 a.estimator_doc_link {\n",
       "  float: right;\n",
       "  font-size: 1rem;\n",
       "  line-height: 1em;\n",
       "  font-family: monospace;\n",
       "  background-color: var(--sklearn-color-background);\n",
       "  border-radius: 1rem;\n",
       "  height: 1rem;\n",
       "  width: 1rem;\n",
       "  text-decoration: none;\n",
       "  /* unfitted */\n",
       "  color: var(--sklearn-color-unfitted-level-1);\n",
       "  border: var(--sklearn-color-unfitted-level-1) 1pt solid;\n",
       "}\n",
       "\n",
       "#sk-container-id-1 a.estimator_doc_link.fitted {\n",
       "  /* fitted */\n",
       "  border: var(--sklearn-color-fitted-level-1) 1pt solid;\n",
       "  color: var(--sklearn-color-fitted-level-1);\n",
       "}\n",
       "\n",
       "/* On hover */\n",
       "#sk-container-id-1 a.estimator_doc_link:hover {\n",
       "  /* unfitted */\n",
       "  background-color: var(--sklearn-color-unfitted-level-3);\n",
       "  color: var(--sklearn-color-background);\n",
       "  text-decoration: none;\n",
       "}\n",
       "\n",
       "#sk-container-id-1 a.estimator_doc_link.fitted:hover {\n",
       "  /* fitted */\n",
       "  background-color: var(--sklearn-color-fitted-level-3);\n",
       "}\n",
       "</style><div id=\"sk-container-id-1\" class=\"sk-top-container\"><div class=\"sk-text-repr-fallback\"><pre>MultinomialNB()</pre><b>In a Jupyter environment, please rerun this cell to show the HTML representation or trust the notebook. <br />On GitHub, the HTML representation is unable to render, please try loading this page with nbviewer.org.</b></div><div class=\"sk-container\" hidden><div class=\"sk-item\"><div class=\"sk-estimator fitted sk-toggleable\"><input class=\"sk-toggleable__control sk-hidden--visually\" id=\"sk-estimator-id-1\" type=\"checkbox\" checked><label for=\"sk-estimator-id-1\" class=\"sk-toggleable__label fitted sk-toggleable__label-arrow\"><div><div>MultinomialNB</div></div><div><a class=\"sk-estimator-doc-link fitted\" rel=\"noreferrer\" target=\"_blank\" href=\"https://scikit-learn.org/1.6/modules/generated/sklearn.naive_bayes.MultinomialNB.html\">?<span>Documentation for MultinomialNB</span></a><span class=\"sk-estimator-doc-link fitted\">i<span>Fitted</span></span></div></label><div class=\"sk-toggleable__content fitted\"><pre>MultinomialNB()</pre></div> </div></div></div></div>"
      ],
      "text/plain": [
       "MultinomialNB()"
      ]
     },
     "execution_count": 17,
     "metadata": {},
     "output_type": "execute_result"
    }
   ],
   "source": [
    "# Instanciar y entrenar un modelo de clasificación Naïve Bayes multinomial con sklearn\n",
    "clf = MultinomialNB()\n",
    "clf.fit(X_train, y_train)"
   ]
  },
  {
   "cell_type": "code",
   "execution_count": 18,
   "metadata": {
    "id": "NrQjzM48Mu4T"
   },
   "outputs": [],
   "source": [
    "# Usar el vectorizador TF-IDF ya entrenado con el conjunto de entrenamiento\n",
    "# para transformar los textos del conjunto de prueba\n",
    "X_test = tfidfvect.transform(newsgroups_test.data)\n",
    "y_test = newsgroups_test.target\n",
    "y_pred = clf.predict(X_test)"
   ]
  },
  {
   "cell_type": "code",
   "execution_count": 19,
   "metadata": {
    "colab": {
     "base_uri": "https://localhost:8080/"
    },
    "id": "UkGJhetEPdA4",
    "outputId": "232ee2ce-e904-466e-be57-babc1f319029"
   },
   "outputs": [
    {
     "data": {
      "text/plain": [
       "0.5854345727938506"
      ]
     },
     "execution_count": 19,
     "metadata": {},
     "output_type": "execute_result"
    }
   ],
   "source": [
    "# Calcular el F1-score macro entre las etiquetas reales y las predichas\n",
    "f1_score(y_test, y_pred, average='macro')"
   ]
  },
  {
   "cell_type": "markdown",
   "metadata": {
    "id": "McArD4rSDR2K"
   },
   "source": [
    "### Consigna del desafío 1"
   ]
  },
  {
   "cell_type": "markdown",
   "metadata": {
    "id": "lJgf6GQIIEH1"
   },
   "source": [
    "**1**. Vectorizar documentos. Tomar 5 documentos al azar y medir similaridad con el resto de los documentos.\n",
    "Estudiar los 5 documentos más similares de cada uno analizar si tiene sentido\n",
    "la similaridad según el contenido del texto y la etiqueta de clasificación.\n",
    "\n",
    "**2**. Entrenar modelos de clasificación Naïve Bayes para maximizar el desempeño de clasificación\n",
    "(f1-score macro) en el conjunto de datos de test. Considerar cambiar parámteros\n",
    "de instanciación del vectorizador y los modelos y probar modelos de Naïve Bayes Multinomial\n",
    "y ComplementNB.\n",
    "\n",
    "**3**. Transponer la matriz documento-término. De esa manera se obtiene una matriz\n",
    "término-documento que puede ser interpretada como una colección de vectorización de palabras.\n",
    "Estudiar ahora similaridad entre palabras tomando 5 palabras y estudiando sus 5 más similares. **La elección de palabras no debe ser al azar para evitar la aparición de términos poco interpretables, elegirlas \"manualmente\"**.\n"
   ]
  },
  {
   "cell_type": "markdown",
   "metadata": {},
   "source": [
    "## Parte 1.1 Vectorizar documentos\n",
    "Tomar 5 documentos al azar y medir similaridad con el resto de los documentos. Estudiar los 5 documentos más similares de cada uno analizar si tiene sentido la similaridad según el contenido del texto y la etiqueta de clasificación."
   ]
  },
  {
   "cell_type": "code",
   "execution_count": 20,
   "metadata": {},
   "outputs": [
    {
     "name": "stdout",
     "output_type": "stream",
     "text": [
      "[7492 3546 5582 4793 3813]\n"
     ]
    }
   ],
   "source": [
    "# Elegir 5 documentos al azar\n",
    "np.random.seed(42)\n",
    "random_docs = np.random.choice(len(newsgroups_train.data), size=5, replace=False)\n",
    "print(random_docs)"
   ]
  },
  {
   "cell_type": "code",
   "execution_count": 21,
   "metadata": {},
   "outputs": [
    {
     "name": "stdout",
     "output_type": "stream",
     "text": [
      "=====================================================\n",
      "Documento 1 (idx: 7492, clase: comp.sys.mac.hardware)\n",
      "=====================================================\n",
      "Could someone please post any info on these systems.  Thanks. BoB --\n",
      "----------------------------------------------------------------------  Robert Novitskey | \"Pursuing\n",
      "women is similar to banging one's head rrn@po.cwru.edu  |  against a wall...with less opportunity\n",
      "for reward\"\n",
      "\n",
      "----------------------------------------------------------------------------------------------------\n",
      "\n",
      "=======================================================\n",
      "Documento 2 (idx: 3546, clase: comp.os.ms-windows.misc)\n",
      "=======================================================\n",
      "       Don't bother if you have CPBackup or Fastback.  They all offer options  not available in the\n",
      "stripped-down MS version (FROM CPS!).  Examples - no  proprietary format (to save space), probably\n",
      "no direct DMA access, and no  tape drive!\n",
      "\n",
      "----------------------------------------------------------------------------------------------------\n",
      "\n",
      "============================================\n",
      "Documento 3 (idx: 5582, clase: misc.forsale)\n",
      "============================================\n",
      "5.25\" Internal Low density disk drive.  Monochrome monitor  8088 motherboard, built in parallel and\n",
      "serial ports, built in mono and color output, 7Mhz.  Libertarian, atheist, semi-anarchal Techno-Rat.\n",
      "\n",
      "----------------------------------------------------------------------------------------------------\n",
      "\n",
      "==================================================\n",
      "Documento 4 (idx: 4793, clase: talk.politics.guns)\n",
      "==================================================\n",
      "Hi,  In Canada, any gun that enters a National Park must be sealed (I think it's a small metal tag\n",
      "that's placed over the trigger).  The net result of this is that you _can't_ use a gun to protect\n",
      "yourself from bears (or psychos) in the National Parks.  Instead, one has to be sensitive to the\n",
      "dangers and annoyances of hiking in bear country, and take the appropriate precautions.  I think\n",
      "this policy makes the users of the National Parks feel a little closer to Nature, that they are a\n",
      "part of Nature and, as such, have to deal with nature on it's own terms.\n",
      "\n",
      "----------------------------------------------------------------------------------------------------\n",
      "\n",
      "================================================\n",
      "Documento 5 (idx: 3813, clase: rec.sport.hockey)\n",
      "================================================\n",
      " Doesn't it also have the Statue of Liberty on it or is that Richter's Mask?  The back actually has\n",
      "a Bee followed by a Z to represent the Beezer. It  also has something that looks like the three\n",
      "interconnecting circles from the Led Zepplin 4 album cover. Is that what it is supposed to be? and\n",
      "if it is does anybody know why he would put it there? Ali?   John \"The official Language of Golf is\n",
      "Profanity\"\n",
      "\n",
      "----------------------------------------------------------------------------------------------------\n",
      "\n"
     ]
    }
   ],
   "source": [
    "# Visualizar contenido\n",
    "for i, idx in enumerate(random_docs, 1):\n",
    "    title = f\"Documento {i} (idx: {idx}, clase: {newsgroups_train.target_names[y_train[idx]]})\"\n",
    "    print(\"=\" * len(title))\n",
    "    print(title)\n",
    "    print(\"=\" * len(title))\n",
    "    print(\"\\n\".join(textwrap.wrap(newsgroups_train.data[idx], width=100))[:10000])\n",
    "    print(\"\\n\" + \"-\" * 100 + \"\\n\")"
   ]
  },
  {
   "cell_type": "code",
   "execution_count": 22,
   "metadata": {},
   "outputs": [
    {
     "name": "stdout",
     "output_type": "stream",
     "text": [
      "\n",
      "--- Documento base: 7492 (comp.sys.mac.hardware) ---\n",
      "Similitud: 0.67 | idx: 10935 | Clase: comp.sys.mac.hardware\n",
      "Similitud: 0.35 | idx: 7258 | Clase: comp.sys.ibm.pc.hardware\n",
      "Similitud: 0.18 | idx: 4971 | Clase: comp.sys.mac.hardware\n",
      "Similitud: 0.15 | idx: 4303 | Clase: misc.forsale\n",
      "Similitud: 0.14 | idx: 645 | Clase: comp.sys.mac.hardware\n",
      "\n",
      "--- Documento base: 3546 (comp.os.ms-windows.misc) ---\n",
      "Similitud: 0.20 | idx: 5665 | Clase: comp.sys.ibm.pc.hardware\n",
      "Similitud: 0.19 | idx: 2011 | Clase: comp.sys.ibm.pc.hardware\n",
      "Similitud: 0.17 | idx: 8643 | Clase: comp.sys.ibm.pc.hardware\n",
      "Similitud: 0.17 | idx: 1546 | Clase: comp.sys.ibm.pc.hardware\n",
      "Similitud: 0.16 | idx: 8765 | Clase: comp.sys.ibm.pc.hardware\n",
      "\n",
      "--- Documento base: 5582 (misc.forsale) ---\n",
      "Similitud: 0.46 | idx: 5510 | Clase: misc.forsale\n",
      "Similitud: 0.30 | idx: 4922 | Clase: misc.forsale\n",
      "Similitud: 0.27 | idx: 4347 | Clase: comp.graphics\n",
      "Similitud: 0.21 | idx: 8057 | Clase: misc.forsale\n",
      "Similitud: 0.17 | idx: 4028 | Clase: comp.graphics\n",
      "\n",
      "--- Documento base: 4793 (talk.politics.guns) ---\n",
      "Similitud: 0.24 | idx: 6894 | Clase: talk.politics.guns\n",
      "Similitud: 0.24 | idx: 5856 | Clase: sci.crypt\n",
      "Similitud: 0.23 | idx: 4271 | Clase: talk.politics.misc\n",
      "Similitud: 0.23 | idx: 3141 | Clase: talk.politics.guns\n",
      "Similitud: 0.23 | idx: 10836 | Clase: alt.atheism\n",
      "\n",
      "--- Documento base: 3813 (rec.sport.hockey) ---\n",
      "Similitud: 0.25 | idx: 10836 | Clase: alt.atheism\n",
      "Similitud: 0.25 | idx: 759 | Clase: soc.religion.christian\n",
      "Similitud: 0.24 | idx: 913 | Clase: alt.atheism\n",
      "Similitud: 0.24 | idx: 5826 | Clase: soc.religion.christian\n",
      "Similitud: 0.23 | idx: 5856 | Clase: sci.crypt\n"
     ]
    }
   ],
   "source": [
    "# Calcular la similaridad con todos los demás documentos\n",
    "\n",
    "similar_docs_dict = {}\n",
    "\n",
    "for idx in random_docs:\n",
    "    doc_vector = X_train[idx]\n",
    "    similarities = cosine_similarity(doc_vector, X_train)[0]\n",
    "    most_similar_idx = np.argsort(similarities)[::-1][1:6]\n",
    "    similar_docs_dict[idx] = most_similar_idx  # guardar los similares para cada documento\n",
    "    print(f\"\\n--- Documento base: {idx} ({newsgroups_train.target_names[y_train[idx]]}) ---\")\n",
    "    for i in most_similar_idx:\n",
    "        print(f\"Similitud: {similarities[i]:.2f} | idx: {i} | Clase: {newsgroups_train.target_names[y_train[i]]}\")\n"
   ]
  },
  {
   "cell_type": "code",
   "execution_count": 23,
   "metadata": {},
   "outputs": [
    {
     "name": "stdout",
     "output_type": "stream",
     "text": [
      "\n",
      "########## Documentos similares a 7492 (comp.sys.mac.hardware) ##########\n",
      "\n",
      "==============================================================\n",
      "Documento similar 1 (idx: 10935, clase: comp.sys.mac.hardware)\n",
      "==============================================================\n",
      "Hey everybody:     I want to buy a mac and I want to get a good price...who doesn't?  So, could\n",
      "anyone out there who has found a really good deal on a Centris 650 send me the price.  I don't want\n",
      "to know where, unless it is mail order or areound cleveland, Ohio.  Also, should I buy now or wait\n",
      "for the Power PC.  Thanks. BoB reply via post or e-mail at rrn@po.cwru.edu --\n",
      "----------------------------------------------------------------------  Robert Novitskey | \"Pursuing\n",
      "women is similar to bangin\n",
      "\n",
      "----------------------------------------------------------------------------------------------------\n",
      "\n",
      "================================================================\n",
      "Documento similar 2 (idx: 7258, clase: comp.sys.ibm.pc.hardware)\n",
      "================================================================\n",
      "Hay all:      Has anyone out there heard of any performance stats on the fabled p24t.  I was\n",
      "wondering what it's performance compared to the 486/66 and/or pentium would be.  Any info would be\n",
      "helpful.  Later BoB --  Robert Novitskey | rrn@po.cwru.edu | (216)754-2134 | CWRU Cleve. Ohio\n",
      "---------------------------------------------------------------------- COMPUTER ENGINEER AND C\n",
      "PROGRAMMER |  NOW SEEKING SUMMER JOBS\n",
      "\n",
      "----------------------------------------------------------------------------------------------------\n",
      "\n",
      "=============================================================\n",
      "Documento similar 3 (idx: 4971, clase: comp.sys.mac.hardware)\n",
      "=============================================================\n",
      "Could someone please send instructions for installing simms and vram to  jmk13@po.cwru.edu?  He's\n",
      "just gotten his 700 and wants to drop in some  extra simms and vram that he has for it.\n",
      "\n",
      "----------------------------------------------------------------------------------------------------\n",
      "\n",
      "====================================================\n",
      "Documento similar 4 (idx: 4303, clase: misc.forsale)\n",
      "====================================================\n",
      "For sale:  Roland D-50: $700 or best offer. Excellent condition. Includes over 1000 patches on disk\n",
      "(In cakewalk sysex format)  Buyer must pay COD shipping.  Please e-mail responses to:\n",
      "gms2@po.cwru.edu  Thanks.  George\n",
      "\n",
      "----------------------------------------------------------------------------------------------------\n",
      "\n",
      "============================================================\n",
      "Documento similar 5 (idx: 645, clase: comp.sys.mac.hardware)\n",
      "============================================================\n",
      "I'd appreciate it greatly if someone could E-mail me the following: (if you only know one, that's\n",
      "fine) 1) Specs for the 68040 (esp. how it compares to the Pentium) 2) Specs for the 68060 with\n",
      "estimated cost, release date, etc...  I'm interested in speeds, systems it can run (Windows NT,\n",
      "RISC, or whatever), costs, bus info, register info.  All the technical info.  I am hoping that the\n",
      "68040 can win yet another battle against the intel people.   :)  Thanks for any info you can give.\n",
      "Thanks.\n",
      "\n",
      "----------------------------------------------------------------------------------------------------\n",
      "\n",
      "\n",
      "########## Documentos similares a 3546 (comp.os.ms-windows.misc) ##########\n",
      "\n",
      "================================================================\n",
      "Documento similar 1 (idx: 5665, clase: comp.sys.ibm.pc.hardware)\n",
      "================================================================\n",
      " By initiating a DMA xfer.  :)  Seriously, busmastering adapter have their own DMA ability, they\n",
      "don't use the motherboards on-board DMA(which is *MUCH* slower).  ISA has no bus arbitration, so if\n",
      "two busmastering cards in 1 ISA system try to do DMA xfers on the same DMA channel the system will\n",
      "lock or  crash.(I forget)  Their are 8 DMA channels in an ISA system. 0-7. 0-3 are 8-bit & 4-7 are\n",
      "16-bit.  The system uses DMA 0, a SoundBlaster uses DMA 1.  I could buy a busmastering XGA-2 video\n",
      "card &\n",
      "\n",
      "----------------------------------------------------------------------------------------------------\n",
      "\n",
      "================================================================\n",
      "Documento similar 2 (idx: 2011, clase: comp.sys.ibm.pc.hardware)\n",
      "================================================================\n",
      "  IDE also uses DMA techniques.  I believe floppy controller also uses DMA, and most A/D boards also\n",
      "use DMA.  DMA is no big deal, and has nothing to do directly with SCSI.   You can thank your\n",
      "software for that.  If DOS had a few more brains, it could format floppies etc. while you were doing\n",
      "something else.  The hardware will support it, but DOS (at least) won't.  Again, this has    nothing\n",
      "to do with SCSI.   And if you stick with DOS you'll wonder why you can't multitask.\n",
      "\n",
      "----------------------------------------------------------------------------------------------------\n",
      "\n",
      "================================================================\n",
      "Documento similar 3 (idx: 8643, clase: comp.sys.ibm.pc.hardware)\n",
      "================================================================\n",
      " There would be no problems as long as the OS didn't set up a DMA transfer to an area above the 16\n",
      "mb area (the DMA controller probably can't be programmed that way anyways, so there probably isin't\n",
      "a problem with this)\n",
      "\n",
      "----------------------------------------------------------------------------------------------------\n",
      "\n",
      "================================================================\n",
      "Documento similar 4 (idx: 1546, clase: comp.sys.ibm.pc.hardware)\n",
      "================================================================\n",
      "       Here's a document that I wrote some time back.  It's slightly out-of-date, now that DOS 6 has\n",
      "been released, but much of it is still useful.       -- Darryl Okahata         Internet:\n",
      "darrylo@sr.hp.com  DISCLAIMER: this message is the author's personal opinion and does not constitute\n",
      "the support, opinion or policy of Hewlett-Packard or of the little green men that have been\n",
      "following him all day.\n",
      "=============================================================================== $Id: adaptec.t\n",
      "\n",
      "----------------------------------------------------------------------------------------------------\n",
      "\n",
      "================================================================\n",
      "Documento similar 5 (idx: 8765, clase: comp.sys.ibm.pc.hardware)\n",
      "================================================================\n",
      "The floppy is served by DMA on the motherboard, and original DMA-controller can't reach more than\n",
      "the first 16MB (The address-space of the ISA-bus) joerg\n",
      "\n",
      "----------------------------------------------------------------------------------------------------\n",
      "\n",
      "\n",
      "########## Documentos similares a 5582 (misc.forsale) ##########\n",
      "\n",
      "====================================================\n",
      "Documento similar 1 (idx: 5510, clase: misc.forsale)\n",
      "====================================================\n",
      "I am looking for a 286 motherboard, preferable 12 or 16, 640k or 1 meg RAM.  I am also looking for a\n",
      "VGA card.  Am willing to trade 1200 external, 5.25\" LD Drive, 8088 motherboard, monochrome monitor,\n",
      "Game Boy, in some combination for the above.  Libertarian, atheist, semi-anarchal Techno-Rat.\n",
      "\n",
      "----------------------------------------------------------------------------------------------------\n",
      "\n",
      "====================================================\n",
      "Documento similar 2 (idx: 4922, clase: misc.forsale)\n",
      "====================================================\n",
      "For sale:  Nintendo Game Boy, Tetris, Castlevania Adventure, All-Star Challenge, Nemesis, Play-\n",
      "Action football, link cable.  Make me an offer.  Libertarian, atheist, semi-anarchal Techno-Rat.\n",
      "\n",
      "----------------------------------------------------------------------------------------------------\n",
      "\n",
      "=====================================================\n",
      "Documento similar 3 (idx: 4347, clase: comp.graphics)\n",
      "=====================================================\n",
      "  It's really not that hard to do.  There are books out there which explain everything, and the\n",
      "basic 3D functions, translation, rotation, shading, and hidden line removal are pretty easy.  I\n",
      "wrote a program in a few weeks witht he help of a book, and would be happy to give you my source.\n",
      "Also, Quickdraw has a lot of 3D functions built in, and Think pascal can access them, and I would\n",
      "expect that THINK C could as well.  If you can find out how to use the Quickdraw graphics library,\n",
      "it would be a\n",
      "\n",
      "----------------------------------------------------------------------------------------------------\n",
      "\n",
      "====================================================\n",
      "Documento similar 4 (idx: 8057, clase: misc.forsale)\n",
      "====================================================\n",
      "Hello, I have a motherboard and a case for sale as a package. Both of them came from a CompuAdd\n",
      "computer I bought last August and am    presently upgrading. Here are the specs--  Motherboard\n",
      "----------- Cyrix 486SL 25 MHz microprocessor Chips and Technology chipset (SCATsx V2.3.6 SLSLC) 8\n",
      "SIMM banks for a maximum of 32 Megs of RAM BUILT-IN Floppy and Hard Drive Controllers BUILT-IN ports\n",
      "--1 Parallel, 2 Serial (9 and 25 pin) BUILT-IN Paradise SVGA controller with 1 meg of RAM (Windows\n",
      "drivers in\n",
      "\n",
      "----------------------------------------------------------------------------------------------------\n",
      "\n",
      "=====================================================\n",
      "Documento similar 5 (idx: 4028, clase: comp.graphics)\n",
      "=====================================================\n",
      "Hello, and thank you for reading this request.  I have a Mpeg viewer for x-windows and it did not\n",
      "run because I was running it on a monochrome monitor.  I need the mono-driver for mpeg_play.\n",
      "\n",
      "----------------------------------------------------------------------------------------------------\n",
      "\n",
      "\n",
      "########## Documentos similares a 4793 (talk.politics.guns) ##########\n",
      "\n",
      "==========================================================\n",
      "Documento similar 1 (idx: 6894, clase: talk.politics.guns)\n",
      "==========================================================\n",
      "Here is a press release from the White House.   President Clinton's Remarks On Waco With Q/A  To:\n",
      "National Desk  Contact: White House Office of the Press Secretary, 202-456-2100     WASHINGTON,\n",
      "April 20 -- Following are remarks by President  Clinton in a question and answer session with the\n",
      "press:  1:36 P.M. EDT       THE PRESIDENT:  On February the 28th, four federal agents were killed in\n",
      "the line of duty trying to enforce the law against the Branch Davidian compound, which had illegally\n",
      "stockp\n",
      "\n",
      "----------------------------------------------------------------------------------------------------\n",
      "\n",
      "=================================================\n",
      "Documento similar 2 (idx: 5856, clase: sci.crypt)\n",
      "=================================================\n",
      " Thanks for posting this and making it available. This post will be LONG, I will comment on most of\n",
      "it, and am reluctantly leaving all of the original in place to provide context.  Please note that an\n",
      "alt. group has been set up for the Clipper stuff.\n",
      "^^^^^^^^^ Hum, AT&T, VLSI and Mykotronx are 'industry'? Wonder what happened to IBM, this should be\n",
      "right up their street. And a mandateed scheme is voluntary? Mr Orwell would love this.\n",
      "^^^^^^^^^  Telephone encryption and scrambleing are years behi\n",
      "\n",
      "----------------------------------------------------------------------------------------------------\n",
      "\n",
      "==========================================================\n",
      "Documento similar 3 (idx: 4271, clase: talk.politics.misc)\n",
      "==========================================================\n",
      "THE WHITE HOUSE                      Office of the Press Secretary\n",
      "______________________________________________________________ For Immediate Release\n",
      "April 13, 1993                                           REMARKS BY THE PRESIDENT,\n",
      "SECRETARY OF EDUCATION RICHARD RILEY AND                    SECRETARY OF LABOR ROBERT REICH  IN\n",
      "GOALS 2000 SATELLITE TOWN HALL MEETING                                    Chamber of Commerce\n",
      "Building                            Washington, D.C.       8:30 P.M. EDT\n",
      "SE\n",
      "\n",
      "----------------------------------------------------------------------------------------------------\n",
      "\n",
      "==========================================================\n",
      "Documento similar 4 (idx: 3141, clase: talk.politics.guns)\n",
      "==========================================================\n",
      "        Mr. Parsli, I have to take exception at this.  There are verifiable, previous *examples* of\n",
      "levels of U.S. governments abusing gun-control restrictions.  I don't think it is paranoid to worry\n",
      "that what has been abused in the recent past might be abused in thye future.  After so many times of\n",
      "getting burned any sane person will stop putting his hand on the stove.          I'd love to.  But\n",
      "as long as the politicians grab power to sell pork back to their constituents, there's not a lot I\n",
      "c\n",
      "\n",
      "----------------------------------------------------------------------------------------------------\n",
      "\n",
      "====================================================\n",
      "Documento similar 5 (idx: 10836, clase: alt.atheism)\n",
      "====================================================\n",
      "Archive-name: atheism/faq Alt-atheism-archive-name: faq Last-modified: 5 April 1993 Version: 1.1\n",
      "Alt.Atheism Frequently-Asked Questions  This file contains responses to articles which occur\n",
      "repeatedly in alt.atheism.  Points covered here are ones which are not covered in the \"Introduction\n",
      "to Atheism\"; you are advised to read that article as well before posting.  These answers are not\n",
      "intended to be exhaustive or definitive. The purpose of the periodic FAQ postings is not to stifle\n",
      "debate, but to\n",
      "\n",
      "----------------------------------------------------------------------------------------------------\n",
      "\n",
      "\n",
      "########## Documentos similares a 3813 (rec.sport.hockey) ##########\n",
      "\n",
      "====================================================\n",
      "Documento similar 1 (idx: 10836, clase: alt.atheism)\n",
      "====================================================\n",
      "Archive-name: atheism/faq Alt-atheism-archive-name: faq Last-modified: 5 April 1993 Version: 1.1\n",
      "Alt.Atheism Frequently-Asked Questions  This file contains responses to articles which occur\n",
      "repeatedly in alt.atheism.  Points covered here are ones which are not covered in the \"Introduction\n",
      "to Atheism\"; you are advised to read that article as well before posting.  These answers are not\n",
      "intended to be exhaustive or definitive. The purpose of the periodic FAQ postings is not to stifle\n",
      "debate, but to\n",
      "\n",
      "----------------------------------------------------------------------------------------------------\n",
      "\n",
      "=============================================================\n",
      "Documento similar 2 (idx: 759, clase: soc.religion.christian)\n",
      "=============================================================\n",
      " Oh contrer mon captitan!  There is a way.  Certainly it is not by human reason.  Certainly it is\n",
      "not by human experience. (and yet it is both!)  To paraphrase Sartre, the particular is absurd\n",
      "unless it has an infinite reference point.  It is only because of God's own revelation that we can\n",
      "be absolute about a thing.  Your logic comes to fruition in relativism.    Ah, now it is clear.\n",
      "Ludwig was a desciple of Russell. Ludwig's fame is often explained by the fact that he spawned not\n",
      "one but two s\n",
      "\n",
      "----------------------------------------------------------------------------------------------------\n",
      "\n",
      "==================================================\n",
      "Documento similar 3 (idx: 913, clase: alt.atheism)\n",
      "==================================================\n",
      "The recent rise of nostalgia in this group, combined with the   incredible level of utter bullshit,\n",
      "has prompted me to comb   through my archives and pull out some of \"The Best of Alt.Atheism\"   for\n",
      "your reading pleasure.  I'll post a couple of these a day   unless group concensus demands that I\n",
      "stop, or I run out of good   material.    I haven't been particularly careful in the past about\n",
      "saving   attributions.  I think the following comes from John A. Johnson,   but someone correct me\n",
      "if I'm w\n",
      "\n",
      "----------------------------------------------------------------------------------------------------\n",
      "\n",
      "==============================================================\n",
      "Documento similar 4 (idx: 5826, clase: soc.religion.christian)\n",
      "==============================================================\n",
      "A listmember (D Andrew Killie, I think) wrote, in response to the suggestion that genocide may\n",
      "sometimes be the will of God:   > Any God who works that way is indescribably evil,  > and unworthy\n",
      "of my worship or faith.  Nobuya \"Higgy\" Higashiyama replied (as, in substance, did others):   >\n",
      "Where is your source of moral standards by which you judge God's  > behavior?  It is often argued\n",
      "that we have no standing by which to judge God's actions.  Who is the clay to talk back to the\n",
      "potter? But we f\n",
      "\n",
      "----------------------------------------------------------------------------------------------------\n",
      "\n",
      "=================================================\n",
      "Documento similar 5 (idx: 5856, clase: sci.crypt)\n",
      "=================================================\n",
      " Thanks for posting this and making it available. This post will be LONG, I will comment on most of\n",
      "it, and am reluctantly leaving all of the original in place to provide context.  Please note that an\n",
      "alt. group has been set up for the Clipper stuff.\n",
      "^^^^^^^^^ Hum, AT&T, VLSI and Mykotronx are 'industry'? Wonder what happened to IBM, this should be\n",
      "right up their street. And a mandateed scheme is voluntary? Mr Orwell would love this.\n",
      "^^^^^^^^^  Telephone encryption and scrambleing are years behi\n",
      "\n",
      "----------------------------------------------------------------------------------------------------\n",
      "\n"
     ]
    }
   ],
   "source": [
    "# Leer los documentos más similares\n",
    "for base_idx, similar_indices in similar_docs_dict.items():\n",
    "    print(f\"\\n########## Documentos similares a {base_idx} ({newsgroups_train.target_names[y_train[base_idx]]}) ##########\\n\")\n",
    "    for i, idx in enumerate(similar_indices, 1):\n",
    "        title = f\"Documento similar {i} (idx: {idx}, clase: {newsgroups_train.target_names[y_train[idx]]})\"\n",
    "        print(\"=\" * len(title))\n",
    "        print(title)\n",
    "        print(\"=\" * len(title))\n",
    "        print(\"\\n\".join(textwrap.wrap(newsgroups_train.data[idx], width=100))[:500])\n",
    "        print(\"\\n\" + \"-\" * 100 + \"\\n\")"
   ]
  },
  {
   "cell_type": "markdown",
   "metadata": {},
   "source": [
    "#### Analisis\n",
    "#### idx: 7492 comp.sys.mac.hardware\n",
    "| Documento | Clase                    | Similitud temática | Comentario breve                      |\n",
    "|-----------|--------------------------|--------------------|---------------------------------------|\n",
    "| 10935     | comp.sys.mac.hardware    | Alta             | Mismo autor, mismo tema.              |\n",
    "| 7258      | comp.sys.ibm.pc.hardware | Parcial         | Mismo autor, diferente clase.    |\n",
    "| 4971      | comp.sys.mac.hardware    | Alta             | Consulta técnica.           |\n",
    "| 4303      | misc.forsale             | Baja             | No tiene relación.    |\n",
    "| 645       | comp.sys.mac.hardware    | Alta             | Consulta sobre procesadores Mac.      |\n",
    "\n",
    "\n",
    "#### idx: 3546 comp.os.ms-windows.misc\n",
    "| Documento | Clase                    | Similitud temática | Comentario breve                                        |\n",
    "|-----------|--------------------------|--------------------|---------------------------------------------------------|\n",
    "| 5665      | comp.sys.ibm.pc.hardware | Parcial         | Tema DMA, pero centrado en hardware.    |\n",
    "| 2011      | comp.sys.ibm.pc.hardware | Parcial         | Tema DMA y DOS.|\n",
    "| 8643      | comp.sys.ibm.pc.hardware | Parcial         | Tema DMA, sin relación a Windows.      |\n",
    "| 1546      | comp.sys.ibm.pc.hardware | Parcial         | Tema DOS |\n",
    "| 8765      | comp.sys.ibm.pc.hardware | Parcial         | Tema DMA, enfoque técnico.      |\n",
    "\n",
    "#### idx: 5582 misc.forsale\n",
    "| Documento | Clase            | Similitud temática | Comentario breve                                             |\n",
    "|-----------|------------------|--------------------|--------------------------------------------------------------|\n",
    "| 5510      | misc.forsale     | Alta             | Misma firma, items similares.  |\n",
    "| 4922      | misc.forsale     | Alta             | Misma firma, venta de Game Boy.    |\n",
    "| 4347      | comp.graphics    | Baja             | Contenido técnico sin relación con ventas.                   |\n",
    "| 8057      | misc.forsale     | Alta             | Venta de hardware.   |\n",
    "| 4028      | comp.graphics    | Baja             | Consulta técnica, sin relacion con ventas.       |\n",
    "\n",
    "\n",
    "#### idx: 4793 talk.politics.guns\n",
    "| Documento | Clase            | Similitud temática | Comentario breve                                                    |\n",
    "|-----------|------------------|--------------------|----------------------------------------------------------------------|\n",
    "| 6894      | talk.politics.guns | Alta           | Debate sobre control de armas.     |\n",
    "| 5856      | sci.crypt         | Baja           | Criptografía y seguridad, no relacionado con armas.                 |\n",
    "| 4271      | talk.politics.misc| Parcial       | Político, pero no sobre armas.                                      |\n",
    "| 3141      | talk.politics.guns| Alta           | Debate sobre abuso de leyes de control de armas.     |\n",
    "| 10836     | alt.atheism       | Baja           | Temática religiosa/filosófica.  |\n",
    "\n",
    "\n",
    "#### idx: 3813 rec.sport.hockey\n",
    "| Documento | Clase                 | Similitud temática | Comentario breve                                                |\n",
    "|-----------|-----------------------|--------------------|-----------------------------------------------------------------|\n",
    "| 10836     | alt.atheism           | Baja             | Sin relación con deporte.        |\n",
    "| 759       | soc.religion.christian| Baja             | Sin relación con deporte.          |\n",
    "| 913       | alt.atheism           | Baja             | Sin relación con deporte.         |\n",
    "| 5826      | soc.religion.christian| Baja             | Sin relación con deporte.  |\n",
    "| 5856      | sci.crypt             | Baja             | Sin relación con deporte.     |\n",
    "\n",
    "\n",
    "#### Conclusion:\n",
    "El desempeño del método de similitud coseno aplicado sobre estos documentos muestra un patrón mixto, con buenos resultados en algunos casos y fallos importantes en otros. \n",
    "Impresiona que el texto de las firmas de los usuarios (al ser palabras que se repiten con el documento base), puede inclinar la similitud. \n",
    "Llama la atención el documento final 3813 rec.sport.hockey, donde la firma del usuario menciona la palabra profanity, siendo los documentos catalogados como similares en su gran mayoría de característica religiosa o sobre ateísmo.\n"
   ]
  },
  {
   "cell_type": "markdown",
   "metadata": {},
   "source": [
    "---"
   ]
  },
  {
   "cell_type": "markdown",
   "metadata": {},
   "source": [
    "## Parte 1.2 Entrenar modelos\n",
    "Entrenar modelos de clasificación Naïve Bayes para maximizar el desempeño de clasificación\n",
    "(f1-score macro) en el conjunto de datos de test. Considerar cambiar parámteros\n",
    "de instanciación del vectorizador y los modelos y probar modelos de Naïve Bayes Multinomial\n",
    "y ComplementNB."
   ]
  },
  {
   "cell_type": "markdown",
   "metadata": {},
   "source": [
    "---"
   ]
  },
  {
   "cell_type": "markdown",
   "metadata": {},
   "source": [
    "Se evaluarán distintas configuraciones del vectorizador TfidfVectorizer y dos modelos de clasificación bayesiana: MultinomialNB y ComplementNB.\n",
    "- Vectorizador:\n",
    "    - ngram_range: unigramas (1, 1) o  bigramas (1, 2) para evaluar si puede capturar mejor el contexto semántico \n",
    "    - min_df: 1 o 5 para observar el efecto de eliminar términos poco frecuentes\n",
    "    - max_df: 1.0 o 0.75 para analizar cómo afecta descartar términos demasiado comunes\n",
    "- Clasificadores:\n",
    "    - MultinomialNB\n",
    "    - ComplementNB"
   ]
  },
  {
   "cell_type": "code",
   "execution_count": 24,
   "metadata": {},
   "outputs": [
    {
     "data": {
      "text/html": [
       "<div>\n",
       "<style scoped>\n",
       "    .dataframe tbody tr th:only-of-type {\n",
       "        vertical-align: middle;\n",
       "    }\n",
       "\n",
       "    .dataframe tbody tr th {\n",
       "        vertical-align: top;\n",
       "    }\n",
       "\n",
       "    .dataframe thead th {\n",
       "        text-align: right;\n",
       "    }\n",
       "</style>\n",
       "<table border=\"1\" class=\"dataframe\">\n",
       "  <thead>\n",
       "    <tr style=\"text-align: right;\">\n",
       "      <th></th>\n",
       "      <th>modelo</th>\n",
       "      <th>ngram_range</th>\n",
       "      <th>min_df</th>\n",
       "      <th>max_df</th>\n",
       "      <th>f1_macro</th>\n",
       "    </tr>\n",
       "  </thead>\n",
       "  <tbody>\n",
       "    <tr>\n",
       "      <th>0</th>\n",
       "      <td>ComplementNB</td>\n",
       "      <td>(1, 1)</td>\n",
       "      <td>1</td>\n",
       "      <td>1.00</td>\n",
       "      <td>0.692953</td>\n",
       "    </tr>\n",
       "    <tr>\n",
       "      <th>1</th>\n",
       "      <td>ComplementNB</td>\n",
       "      <td>(1, 1)</td>\n",
       "      <td>1</td>\n",
       "      <td>0.75</td>\n",
       "      <td>0.692047</td>\n",
       "    </tr>\n",
       "    <tr>\n",
       "      <th>2</th>\n",
       "      <td>ComplementNB</td>\n",
       "      <td>(1, 2)</td>\n",
       "      <td>5</td>\n",
       "      <td>1.00</td>\n",
       "      <td>0.684100</td>\n",
       "    </tr>\n",
       "    <tr>\n",
       "      <th>3</th>\n",
       "      <td>ComplementNB</td>\n",
       "      <td>(1, 2)</td>\n",
       "      <td>5</td>\n",
       "      <td>0.75</td>\n",
       "      <td>0.683960</td>\n",
       "    </tr>\n",
       "    <tr>\n",
       "      <th>4</th>\n",
       "      <td>ComplementNB</td>\n",
       "      <td>(1, 1)</td>\n",
       "      <td>5</td>\n",
       "      <td>1.00</td>\n",
       "      <td>0.683773</td>\n",
       "    </tr>\n",
       "    <tr>\n",
       "      <th>5</th>\n",
       "      <td>ComplementNB</td>\n",
       "      <td>(1, 1)</td>\n",
       "      <td>5</td>\n",
       "      <td>0.75</td>\n",
       "      <td>0.683751</td>\n",
       "    </tr>\n",
       "    <tr>\n",
       "      <th>6</th>\n",
       "      <td>ComplementNB</td>\n",
       "      <td>(1, 2)</td>\n",
       "      <td>1</td>\n",
       "      <td>1.00</td>\n",
       "      <td>0.681684</td>\n",
       "    </tr>\n",
       "    <tr>\n",
       "      <th>7</th>\n",
       "      <td>ComplementNB</td>\n",
       "      <td>(1, 2)</td>\n",
       "      <td>1</td>\n",
       "      <td>0.75</td>\n",
       "      <td>0.681649</td>\n",
       "    </tr>\n",
       "    <tr>\n",
       "      <th>8</th>\n",
       "      <td>MultinomialNB</td>\n",
       "      <td>(1, 1)</td>\n",
       "      <td>5</td>\n",
       "      <td>0.75</td>\n",
       "      <td>0.613185</td>\n",
       "    </tr>\n",
       "    <tr>\n",
       "      <th>9</th>\n",
       "      <td>MultinomialNB</td>\n",
       "      <td>(1, 1)</td>\n",
       "      <td>5</td>\n",
       "      <td>1.00</td>\n",
       "      <td>0.609759</td>\n",
       "    </tr>\n",
       "  </tbody>\n",
       "</table>\n",
       "</div>"
      ],
      "text/plain": [
       "          modelo ngram_range  min_df  max_df  f1_macro\n",
       "0   ComplementNB      (1, 1)       1    1.00  0.692953\n",
       "1   ComplementNB      (1, 1)       1    0.75  0.692047\n",
       "2   ComplementNB      (1, 2)       5    1.00  0.684100\n",
       "3   ComplementNB      (1, 2)       5    0.75  0.683960\n",
       "4   ComplementNB      (1, 1)       5    1.00  0.683773\n",
       "5   ComplementNB      (1, 1)       5    0.75  0.683751\n",
       "6   ComplementNB      (1, 2)       1    1.00  0.681684\n",
       "7   ComplementNB      (1, 2)       1    0.75  0.681649\n",
       "8  MultinomialNB      (1, 1)       5    0.75  0.613185\n",
       "9  MultinomialNB      (1, 1)       5    1.00  0.609759"
      ]
     },
     "metadata": {},
     "output_type": "display_data"
    }
   ],
   "source": [
    "\n",
    "resultados = []\n",
    "\n",
    "# Parámetros a testear\n",
    "ngramas = [(1, 1), (1, 2)]\n",
    "min_dfs = [1, 5]\n",
    "max_dfs = [1.0, 0.75]\n",
    "modelos = [\n",
    "    (\"MultinomialNB\", MultinomialNB(alpha=1.0)),\n",
    "    (\"ComplementNB\", ComplementNB(alpha=1.0))\n",
    "]\n",
    "\n",
    "for ngram in ngramas:\n",
    "    for min_df in min_dfs:\n",
    "        for max_df in max_dfs:\n",
    "            for nombre_modelo, modelo in modelos:\n",
    "                pipe = make_pipeline(\n",
    "                    TfidfVectorizer(ngram_range=ngram, min_df=min_df, max_df=max_df),\n",
    "                    modelo\n",
    "                )\n",
    "                pipe.fit(newsgroups_train.data, newsgroups_train.target)\n",
    "                y_pred = pipe.predict(newsgroups_test.data)\n",
    "                score = f1_score(newsgroups_test.target, y_pred, average='macro')\n",
    "\n",
    "                resultados.append({\n",
    "                    'modelo': nombre_modelo,\n",
    "                    'ngram_range': ngram,\n",
    "                    'min_df': min_df,\n",
    "                    'max_df': max_df,\n",
    "                    'f1_macro': score\n",
    "                })\n",
    "\n",
    "import pandas as pd\n",
    "df_resultados = pd.DataFrame(resultados)\n",
    "df_resultados = df_resultados.sort_values(by='f1_macro', ascending=False)\n",
    "df_resultados.reset_index(drop=True, inplace=True)\n",
    "\n",
    "from IPython.display import display\n",
    "display(df_resultados.head(10))"
   ]
  },
  {
   "cell_type": "markdown",
   "metadata": {},
   "source": [
    "#### Conclusion:\n",
    "El modelo ComplementNB supera consistentemente a MultinomialNB en todas las combinaciones de parámetros, obteniendo valores de F1-score macro significativamente más altos\n",
    "Se observa que agregar bigramas, filtrar términos frecuentes o poco frecuentes no mejora el rendimiento, por otro lado incluir todos los términos (min_df=1) es beneficioso."
   ]
  },
  {
   "cell_type": "markdown",
   "metadata": {},
   "source": [
    "---"
   ]
  },
  {
   "cell_type": "markdown",
   "metadata": {},
   "source": [
    "## Parte 1.3 Estudiar ahora similaridad entre palabras\n",
    "Transponer la matriz documento-término. Estudiar ahora similaridad entre palabras tomando 5 palabras y estudiando sus 5 más similares. **La elección de palabras no debe ser al azar para evitar la aparición de términos poco interpretables, elegirlas \"manualmente\"**."
   ]
  },
  {
   "cell_type": "code",
   "execution_count": 25,
   "metadata": {},
   "outputs": [],
   "source": [
    "# Palabras a analizar\n",
    "palabras = ['space', 'god', 'bike', 'graphics', 'hockey']\n",
    "\n",
    "# 1. Vectorizar y transponer\n",
    "vectorizador = TfidfVectorizer(\n",
    "    ngram_range=(1,1),\n",
    "    stop_words='english',\n",
    "    min_df=5,\n",
    "    max_df=0.75\n",
    ")\n",
    "X = vectorizador.fit_transform(newsgroups_train.data)\n",
    "X_td = X.T\n",
    "\n",
    "# 2. Mapeos de índice-palabra\n",
    "word2idx = vectorizador.vocabulary_\n",
    "idx2word = {i: w for w, i in word2idx.items()}\n",
    "\n",
    "# 3. Crear lista de resultados\n",
    "resultados = []\n",
    "\n",
    "for palabra in palabras:\n",
    "    if palabra not in word2idx:\n",
    "        continue\n",
    "\n",
    "    idx = word2idx[palabra]\n",
    "    vec = X_td[idx]\n",
    "    sim = cosine_similarity(vec, X_td)[0]\n",
    "    top_sim_idx = np.argsort(sim)[::-1][1:6]\n",
    "\n",
    "    for sim_idx in top_sim_idx:\n",
    "        resultados.append({\n",
    "            'Palabra base': palabra,\n",
    "            'Palabra similar': idx2word[sim_idx],\n",
    "            'Similitud': round(sim[sim_idx], 3)\n",
    "        })\n",
    "\n",
    "df_resultados = pd.DataFrame(resultados)\n"
   ]
  },
  {
   "cell_type": "code",
   "execution_count": 26,
   "metadata": {},
   "outputs": [
    {
     "data": {
      "image/png": "[encoded data removed]",
      "text/plain": [
       "<IPython.core.display.Image object>"
      ]
     },
     "metadata": {},
     "output_type": "display_data"
    }
   ],
   "source": [
    "\n",
    "# Agrupar el DataFrame por palabra base\n",
    "grupos = df_resultados.groupby('Palabra base')\n",
    "colores = ['blue', 'red', 'green', 'purple', 'orange']\n",
    "\n",
    "fig, ax = plt.subplots(figsize=(10, 6))\n",
    "x_labels = []\n",
    "x_pos = []\n",
    "y_vals = []\n",
    "bar_colors = []\n",
    "grupo_texts = []\n",
    "\n",
    "x = 0\n",
    "for i, (grupo, datos) in enumerate(grupos):\n",
    "    palabras_similares = datos['Palabra similar'].tolist()\n",
    "    similitudes = datos['Similitud'].tolist()\n",
    "\n",
    "    for palabra, similitud in zip(palabras_similares, similitudes):\n",
    "        x_labels.append(palabra)\n",
    "        x_pos.append(x)\n",
    "        y_vals.append(similitud)\n",
    "        bar_colors.append(colores[i % len(colores)])\n",
    "        grupo_texts.append(grupo)\n",
    "        x += 1\n",
    "\n",
    "ax.bar(x_pos, y_vals, color=bar_colors)\n",
    "ax.set_xticks(x_pos)\n",
    "ax.set_xticklabels(x_labels, rotation=45, ha='right')\n",
    "ax.set_ylabel(\"Similitud\")\n",
    "ax.set_xlabel(\"Palabra similar\")\n",
    "\n",
    "# Etiquetas de grupo \n",
    "prev = None\n",
    "for i, grupo in enumerate(grupo_texts):\n",
    "    if grupo != prev:\n",
    "        ax.text(i, max(y_vals)*1.05, grupo, ha='center', fontsize=12, fontweight='bold')\n",
    "        prev = grupo\n",
    "\n",
    "plt.tight_layout()\n",
    "\n",
    "# Guardar y mostrar\n",
    "buf = io.BytesIO()\n",
    "plt.savefig(buf, format='png')\n",
    "buf.seek(0)\n",
    "display(Image(data=buf.getvalue()))\n",
    "plt.close()\n"
   ]
  },
  {
   "cell_type": "markdown",
   "metadata": {},
   "source": [
    "#### Conclusion:\n",
    "El análisis muestra buena coherencia temática en la mayoría de las palabras base, especialmente en god, bike y hockey."
   ]
  }
 ],
 "metadata": {
  "colab": {
   "provenance": []
  },
  "kernelspec": {
   "display_name": "Python 3 (ipykernel)",
   "language": "python",
   "name": "python3"
  },
  "language_info": {
   "codemirror_mode": {
    "name": "ipython",
    "version": 3
   },
   "file_extension": ".py",
   "mimetype": "text/x-python",
   "name": "python",
   "nbconvert_exporter": "python",
   "pygments_lexer": "ipython3",
   "version": "3.10.11"
  }
 },
 "nbformat": 4,
 "nbformat_minor": 4
}
